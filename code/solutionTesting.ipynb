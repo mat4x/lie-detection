{
 "cells": [
  {
   "cell_type": "code",
   "execution_count": null,
   "id": "0a0115c4-be04-454e-abc5-e4da5a619e30",
   "metadata": {},
   "outputs": [],
   "source": [
    "import mediapipe as mp\n",
    "import numpy as np\n",
    "import cv2"
   ]
  },
  {
   "cell_type": "code",
   "execution_count": null,
   "id": "ba11d6c5-bad9-4702-aa93-d73c7235bdc3",
   "metadata": {},
   "outputs": [],
   "source": [
    "mp_drawing  = mp.solutions.drawing_utils\n",
    "\n",
    "mp_face_detection = mp.solutions.face_detection\n",
    "face_detection = mp_face_detection.FaceDetection()\n",
    "\n",
    "mp_face_mesh = mp.solutions.face_mesh\n",
    "face_mesh    = mp_face_mesh.FaceMesh()\n",
    "\n",
    "mp_holistic = mp.solutions.holistic\n",
    "holistic    = mp_holistic.Holistic()"
   ]
  },
  {
   "cell_type": "code",
   "execution_count": null,
   "id": "c113ae88-7895-4df5-98e1-fa3f89fca51a",
   "metadata": {},
   "outputs": [],
   "source": [
    "help(holistic)"
   ]
  },
  {
   "cell_type": "code",
   "execution_count": null,
   "id": "1da89512-4c9f-4c19-9f8b-60e9987c2754",
   "metadata": {},
   "outputs": [],
   "source": [
    "# Holistic\n",
    "def draw_facemarks(image, results):\n",
    "    mp_drawing.draw_landmarks(\n",
    "        image         = image,\n",
    "        landmark_list = results.face_landmarks,\n",
    "        #connections   = mp_holistic.FACEMESH_CONTOURS,\n",
    "        \n",
    "        landmark_drawing_spec = mp_drawing.DrawingSpec(\n",
    "                                    color=(0,2,255),\n",
    "                                    thickness=1,\n",
    "                                    circle_radius=2),\n",
    "        \n",
    "        connection_drawing_spec = mp_drawing.DrawingSpec(\n",
    "                                color=(128,128,128),\n",
    "                                thickness=1,\n",
    "                                circle_radius=1)\n",
    "        )\n",
    "\n",
    "# Holistic\n",
    "def draw_posemarks(image, results):\n",
    "    mp_drawing.draw_landmarks(\n",
    "        image = image,\n",
    "        landmark_list = results.pose_landmarks,\n",
    "        connections   = mp_holistic.POSE_CONNECTIONS,\n",
    "        \n",
    "        landmark_drawing_spec = mp_drawing.DrawingSpec(\n",
    "            color=(0,230,255),\n",
    "            thickness=2,\n",
    "            circle_radius=1),\n",
    "        \n",
    "        connection_drawing_spec = mp_drawing.DrawingSpec(\n",
    "            color=(255,255,255),\n",
    "            thickness=1,\n",
    "            circle_radius=1)\n",
    "        )\n",
    "\n",
    "# FaceMesh\n",
    "def draw_face_landmarks(image, results):\n",
    "    if not results.multi_face_landmarks:\n",
    "        return\n",
    "    for face_landmark in results.multi_face_landmarks:\n",
    "        mp_drawing.draw_landmarks(\n",
    "            image = image,\n",
    "            landmark_list = face_landmark,\n",
    "            connections   = mp_face_mesh.FACEMESH_TESSELATION,\n",
    "\n",
    "            landmark_drawing_spec = mp_drawing.DrawingSpec(\n",
    "                color=(255,0,0),\n",
    "                thickness=2,\n",
    "                circle_radius=1),\n",
    "            \n",
    "            connection_drawing_spec = mp_drawing.DrawingSpec(\n",
    "                color=(255,255,255),\n",
    "                thickness=1,\n",
    "                circle_radius=1)\n",
    "        )\n",
    "\n",
    "\n",
    "def draw_face_detection(image, results):\n",
    "    if not results.detections:\n",
    "        return\n",
    "    for landmark in results.detections:\n",
    "        mp_drawing.draw_landmarks( image,landmark)"
   ]
  },
  {
   "cell_type": "markdown",
   "id": "0179e302-b923-4cc2-a574-9951eedd98ab",
   "metadata": {},
   "source": [
    "#### Model select"
   ]
  },
  {
   "cell_type": "code",
   "execution_count": null,
   "id": "08818b7e-efcc-4ec9-b434-dbc3e013314c",
   "metadata": {},
   "outputs": [],
   "source": [
    "# change here | ONLY FOR LIVE VIDEO\n",
    "\n",
    "MODEL   = holistic\n",
    "DRAW_FN = draw_posemarks"
   ]
  },
  {
   "cell_type": "markdown",
   "id": "4df17530-e50d-4279-9f34-90c98cf76b0d",
   "metadata": {},
   "source": [
    "### Test on live video"
   ]
  },
  {
   "cell_type": "code",
   "execution_count": null,
   "id": "ef1939aa-084f-4879-ae23-5cc548a0d977",
   "metadata": {},
   "outputs": [],
   "source": [
    "cam = cv2.VideoCapture(r\".\\train_videos\\train1-s.mp4\")\n",
    "cam.set(cv2.CAP_PROP_POS_FRAMES, (58*30)-1)\n",
    "\n",
    "while True:\n",
    "    _, frame = cam.read()\n",
    "    if not _: break\n",
    "\n",
    "    results = MODEL.process(frame)    # MODEL\n",
    "    DRAW_FN(frame, results)\n",
    "\n",
    "    '''\n",
    "    ### DRAW\n",
    "    if results.detections:\n",
    "        print(\"DETECTED\")\n",
    "        for landmark in results.detections:\n",
    "            mp_drawing.draw_landmarks(frame, landmark)\n",
    "    ###\n",
    "    '''\n",
    "    \n",
    "    cv2.imshow(\"cam\", cv2.resize(frame, (0,0), fx=0.4, fy=0.4))\n",
    "    key = cv2.waitKey(1)\n",
    "    if key == ord('q'):\n",
    "        break\n",
    "\n",
    "cam.release()\n",
    "cv2.destroyAllWindows()"
   ]
  },
  {
   "cell_type": "code",
   "execution_count": null,
   "id": "829ead9c-407e-4fa4-ae24-04f28045f691",
   "metadata": {},
   "outputs": [],
   "source": [
    "cam.release()\n",
    "cv2.destroyAllWindows()"
   ]
  },
  {
   "cell_type": "code",
   "execution_count": null,
   "id": "14572993-7286-42aa-a40e-79ac0899fa58",
   "metadata": {},
   "outputs": [],
   "source": [
    "print(results.detections[0])"
   ]
  },
  {
   "cell_type": "markdown",
   "id": "568ce049-410e-4e48-8e7f-9205ece66aab",
   "metadata": {},
   "source": [
    "### Test on video"
   ]
  },
  {
   "cell_type": "code",
   "execution_count": null,
   "id": "aac61c94-fb1a-469b-9264-b630513a8bba",
   "metadata": {},
   "outputs": [],
   "source": [
    "video = cv2.VideoCapture(r'.\\previous-MLcode\\Train_video.mp4')\n",
    "DIMS  = np.array([500, 880], dtype=int)      #Video crop dimension to subject\n",
    "SCALE = 0.75\n",
    "\n",
    "frame_no = 0\n",
    "\n",
    "while(1):\n",
    "    #reading video data\n",
    "    success, frame = video.read()\n",
    "    if not success: break\n",
    "    #if frame_no == 120: break     #Testing\n",
    "\n",
    "    frame_no += 1\n",
    "    #print(frame_no)\n",
    "    \n",
    "    #resizing and cropping\n",
    "    frame = frame[300:300+DIMS[1], 150:150+DIMS[0]]\n",
    "    frame = cv2.resize(frame, (0, 0), fx = SCALE, fy = SCALE)\n",
    "\n",
    "    results = holistic.process(frame)\n",
    "    draw_facemarks(frame, results)\n",
    "\n",
    "    results = face_mesh.process(frame)\n",
    "    draw_face_landmarks(frame, results)\n",
    "\n",
    "    if not bool(results.face_landmarks):\n",
    "        print(frame_no)\n",
    "        \n",
    "\n",
    "    cv2.imshow(\"video\", frame)\n",
    "    key = cv2.waitKey(1)\n",
    "    if key == ord('q'):\n",
    "        break\n",
    "\n",
    "video.release()\n",
    "cv2.destroyAllWindows()"
   ]
  },
  {
   "cell_type": "markdown",
   "id": "34625aa0-61fc-42e8-b4cb-42eafd6e14b9",
   "metadata": {},
   "source": [
    "### Test on image"
   ]
  },
  {
   "cell_type": "code",
   "execution_count": null,
   "id": "e053967b-2fbf-4dd4-9fe2-9a46347a9587",
   "metadata": {},
   "outputs": [],
   "source": [
    "def draw_holistics(frame, results):\n",
    "    mp_drawing.draw_landmarks( frame,\n",
    "        results.face_landmarks,\n",
    "        mp_holistic.FACEMESH_CONTOURS,\n",
    "        mp_drawing.DrawingSpec(\n",
    "            color=(255,0,255),\n",
    "            thickness=1,\n",
    "            circle_radius=1),\n",
    "        \n",
    "        mp_drawing.DrawingSpec(\n",
    "            color=(255,255,255),\n",
    "            thickness=1,\n",
    "            circle_radius=1)\n",
    "        )\n",
    "    \n",
    "    mp_drawing.draw_landmarks(\n",
    "        frame,\n",
    "        results.pose_landmarks,\n",
    "        mp_holistic.POSE_CONNECTIONS,\n",
    "        mp_drawing.DrawingSpec(\n",
    "            color=(0,230,255),\n",
    "            thickness=2,\n",
    "            circle_radius=1),\n",
    "        \n",
    "        mp_drawing.DrawingSpec(\n",
    "            color=(255,255,255),\n",
    "            thickness=1,\n",
    "            circle_radius=1)\n",
    "        )"
   ]
  },
  {
   "cell_type": "code",
   "execution_count": null,
   "id": "434a7ecc-97f9-4361-b0dd-0696d9def0a3",
   "metadata": {},
   "outputs": [],
   "source": [
    "image = cv2.imread(r\".\\sample-img\\sample1.png\")\n",
    "\n",
    "\n",
    "results = holistic.process(image)\n",
    "draw_holistics(image, results)\n",
    "\n",
    "cv2.imshow(\"here\", image)\n",
    "key = cv2.waitKey(0)\n",
    "cv2.destroyAllWindows()"
   ]
  },
  {
   "cell_type": "markdown",
   "id": "cfb280fe-b077-4cd9-8810-0462b1f06b38",
   "metadata": {},
   "source": [
    "# HELPS:"
   ]
  },
  {
   "cell_type": "code",
   "execution_count": null,
   "id": "505317be-2313-4d07-a029-f415c0099dc3",
   "metadata": {},
   "outputs": [],
   "source": [
    "dir(mp.solutions)"
   ]
  },
  {
   "cell_type": "code",
   "execution_count": null,
   "id": "3098ecb8-78f7-427d-9d10-e7d87db7a49b",
   "metadata": {},
   "outputs": [],
   "source": [
    "help(mp_drawing.draw_landmarks)"
   ]
  },
  {
   "cell_type": "code",
   "execution_count": null,
   "id": "8e5f611d-0513-4727-b1d0-2839cf2ecf52",
   "metadata": {},
   "outputs": [],
   "source": [
    "dir(results.multi_face_landmarks[0])"
   ]
  }
 ],
 "metadata": {
  "kernelspec": {
   "display_name": "deepLearn",
   "language": "python",
   "name": "deeplearn"
  },
  "language_info": {
   "codemirror_mode": {
    "name": "ipython",
    "version": 3
   },
   "file_extension": ".py",
   "mimetype": "text/x-python",
   "name": "python",
   "nbconvert_exporter": "python",
   "pygments_lexer": "ipython3",
   "version": "3.9.1"
  }
 },
 "nbformat": 4,
 "nbformat_minor": 5
}
